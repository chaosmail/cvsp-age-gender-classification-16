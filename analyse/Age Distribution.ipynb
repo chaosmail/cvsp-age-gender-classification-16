{
 "cells": [
  {
   "cell_type": "code",
   "execution_count": 1,
   "metadata": {
    "collapsed": true
   },
   "outputs": [],
   "source": [
    "%matplotlib inline\n",
    "\n",
    "import fs\n",
    "import numpy as np\n",
    "import matplotlib as mpl\n",
    "import matplotlib.pyplot as plt\n",
    "import scipy.io\n",
    "from datetime import datetime, timedelta\n",
    "\n",
    "DATA_DIR = '../data/wiki_crop'\n",
    "WIKI_META_FILE = 'wiki.mat'"
   ]
  },
  {
   "cell_type": "code",
   "execution_count": 23,
   "metadata": {
    "collapsed": false
   },
   "outputs": [],
   "source": [
    "python_datetime = lambda x: datetime.fromordinal(int(x)) + timedelta(days=int(x)%1) - timedelta(days = 366)\n",
    "python_datetime_vec = np.vectorize(python_datetime)\n",
    "\n",
    "get_year_vec = np.vectorize(lambda x: x.year)\n",
    "to_string_vec = np.vectorize(lambda x: str(x)[2:-2])\n",
    "\n",
    "def get_meta_data(filename):\n",
    "    # Read input file\n",
    "    meta = scipy.io.loadmat(fs.join(DATA_DIR, filename))\n",
    "    \n",
    "    dob_timestamp = np.asarray(meta['wiki'][0][0][0])\n",
    "    photo_taken_year = np.asarray(meta['wiki'][0][0][1])\n",
    "    full_path = np.asarray(meta['wiki'][0][0][2])\n",
    "    gender = np.asarray(meta['wiki'][0][0][3])\n",
    "    name = np.asarray(meta['wiki'][0][0][4])\n",
    "    face_location = np.asarray(meta['wiki'][0][0][5])\n",
    "    face_score = np.asarray(meta['wiki'][0][0][6])\n",
    "    face_score_2 = np.asarray(meta['wiki'][0][0][7])\n",
    "    \n",
    "    # Parse Matlab date\n",
    "    dob_timestamp = python_datetime_vec(dob_timestamp[0,:])\n",
    "    age = photo_taken_year[0,:] - get_year_vec(dob_timestamp)\n",
    "    \n",
    "    return {\n",
    "        'path':   to_string_vec(full_path[0,:]),\n",
    "        'name':   to_string_vec(name[0,:]),\n",
    "        'age':    age,\n",
    "        'gender': gender[0,:].astype(int)\n",
    "    }"
   ]
  },
  {
   "cell_type": "code",
   "execution_count": 24,
   "metadata": {
    "collapsed": false
   },
   "outputs": [],
   "source": [
    "wiki_meta = get_meta_data(WIKI_META_FILE)"
   ]
  },
  {
   "cell_type": "code",
   "execution_count": 25,
   "metadata": {
    "collapsed": false
   },
   "outputs": [
    {
     "data": {
      "text/plain": [
       "{'age': array([28, 39, 60, ..., 41, 30, 54]),\n",
       " 'gender': array([1, 1, 1, ..., 1, 1, 0]),\n",
       " 'name': array(['Sami Jauhojärvi', 'Dettmar Cramer', 'Marc Okrand', ...,\n",
       "        'Michael Wiesinger', 'Johann Grugger', 'Greta Van Susteren'], \n",
       "       dtype='<U70'),\n",
       " 'path': array(['17/10000217_1981-05-05_2009.jpg',\n",
       "        '48/10000548_1925-04-04_1964.jpg', '12/100012_1948-07-03_2008.jpg',\n",
       "        ..., '09/9998109_1972-12-27_2013.jpg',\n",
       "        '00/9999400_1981-12-13_2011.jpg', '80/999980_1954-06-11_2008.jpg'], \n",
       "       dtype='<U37')}"
      ]
     },
     "execution_count": 25,
     "metadata": {},
     "output_type": "execute_result"
    }
   ],
   "source": [
    "wiki_meta"
   ]
  },
  {
   "cell_type": "code",
   "execution_count": 34,
   "metadata": {
    "collapsed": false
   },
   "outputs": [
    {
     "data": {
      "image/png": "[encoded data removed]",
      "text/plain": [
       "<matplotlib.figure.Figure at 0x7ffa6e86f9b0>"
      ]
     },
     "metadata": {},
     "output_type": "display_data"
    }
   ],
   "source": [
    "hist, bin_edges = np.histogram(wiki_meta['age'], bins=30, range=(0,100))\n",
    "\n",
    "plt.figure(figsize=(20,10))\n",
    "plt.bar(bin_edges[:-1], hist, width=1)\n",
    "plt.xlim(min(bin_edges), max(bin_edges))\n",
    "plt.show()   "
   ]
  },
  {
   "cell_type": "code",
   "execution_count": null,
   "metadata": {
    "collapsed": true
   },
   "outputs": [],
   "source": []
  }
 ],
 "metadata": {
  "kernelspec": {
   "display_name": "Python 3",
   "language": "python",
   "name": "python3"
  },
  "language_info": {
   "codemirror_mode": {
    "name": "ipython",
    "version": 3
   },
   "file_extension": ".py",
   "mimetype": "text/x-python",
   "name": "python",
   "nbconvert_exporter": "python",
   "pygments_lexer": "ipython3",
   "version": "3.5.2"
  }
 },
 "nbformat": 4,
 "nbformat_minor": 0
}
