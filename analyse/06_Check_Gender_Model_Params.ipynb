{
 "cells": [
  {
   "cell_type": "code",
   "execution_count": 1,
   "metadata": {
    "collapsed": true
   },
   "outputs": [],
   "source": [
    "import os\n",
    "import sys\n",
    "module_path = os.path.abspath(os.path.join('..'))\n",
    "sys.path.append(os.path.join(module_path, 'cnn-keras'))"
   ]
  },
  {
   "cell_type": "code",
   "execution_count": 2,
   "metadata": {
    "collapsed": false
   },
   "outputs": [
    {
     "name": "stderr",
     "output_type": "stream",
     "text": [
      "Using Theano backend.\n",
      "Using gpu device 0: Quadro K620M (CNMeM is disabled, cuDNN 5004)\n"
     ]
    }
   ],
   "source": [
    "%matplotlib inline\n",
    "\n",
    "from keras.models import load_model\n",
    "from keras.optimizers import SGD, Adam, RMSprop\n",
    "from keras.callbacks import LearningRateScheduler, EarlyStopping, RemoteMonitor\n",
    "from keras.utils import np_utils\n",
    "import keras.backend as K\n",
    "import numpy as np\n",
    "\n",
    "import fs\n",
    "import models\n",
    "import utils"
   ]
  },
  {
   "cell_type": "code",
   "execution_count": 3,
   "metadata": {
    "collapsed": false,
    "scrolled": false
   },
   "outputs": [
    {
     "name": "stdout",
     "output_type": "stream",
     "text": [
      "{0: 1.4962556165751373, 1: 1.0}\n",
      "Train on 10000 samples, validate on 1000 samples\n",
      "Epoch 1/30\n",
      "10000/10000 [==============================] - 176s - loss: 3.6168 - acc: 0.5568 - val_loss: 0.9378 - val_acc: 0.5240\n",
      "Epoch 2/30\n",
      "10000/10000 [==============================] - 178s - loss: 3.4169 - acc: 0.5729 - val_loss: 0.7408 - val_acc: 0.6350\n",
      "Epoch 3/30\n",
      "10000/10000 [==============================] - 179s - loss: 3.3432 - acc: 0.5707 - val_loss: 0.7212 - val_acc: 0.6500\n",
      "Epoch 4/30\n",
      "10000/10000 [==============================] - 179s - loss: 3.3294 - acc: 0.5716 - val_loss: 0.7180 - val_acc: 0.6510\n",
      "Epoch 5/30\n",
      "10000/10000 [==============================] - 179s - loss: 3.2892 - acc: 0.5858 - val_loss: 0.7136 - val_acc: 0.6530\n",
      "Epoch 6/30\n",
      "10000/10000 [==============================] - 179s - loss: 3.3087 - acc: 0.5813 - val_loss: 0.7109 - val_acc: 0.6520\n",
      "Epoch 7/30\n",
      "10000/10000 [==============================] - 179s - loss: 3.2959 - acc: 0.5786 - val_loss: 0.7085 - val_acc: 0.6520\n",
      "Epoch 8/30\n",
      "10000/10000 [==============================] - 179s - loss: 3.2945 - acc: 0.5826 - val_loss: 0.7060 - val_acc: 0.6490\n",
      "Epoch 9/30\n",
      "10000/10000 [==============================] - 183s - loss: 3.2991 - acc: 0.5827 - val_loss: 0.7039 - val_acc: 0.6480\n",
      "Epoch 10/30\n",
      "10000/10000 [==============================] - 165s - loss: 3.2693 - acc: 0.5867 - val_loss: 0.7032 - val_acc: 0.6490\n",
      "Epoch 11/30\n",
      "10000/10000 [==============================] - 165s - loss: 3.2480 - acc: 0.5886 - val_loss: 0.7019 - val_acc: 0.6490\n",
      "Epoch 12/30\n",
      "10000/10000 [==============================] - 173s - loss: 3.2365 - acc: 0.5872 - val_loss: 0.7000 - val_acc: 0.6500\n",
      "Epoch 13/30\n",
      "10000/10000 [==============================] - 177s - loss: 3.2351 - acc: 0.5877 - val_loss: 0.6990 - val_acc: 0.6510\n",
      "Epoch 14/30\n",
      "10000/10000 [==============================] - 177s - loss: 3.2703 - acc: 0.5847 - val_loss: 0.6981 - val_acc: 0.6500\n",
      "Epoch 15/30\n",
      "10000/10000 [==============================] - 178s - loss: 3.2466 - acc: 0.5809 - val_loss: 0.6977 - val_acc: 0.6500\n",
      "Epoch 16/30\n",
      "10000/10000 [==============================] - 182s - loss: 3.2364 - acc: 0.5903 - val_loss: 0.6964 - val_acc: 0.6510\n",
      "Epoch 17/30\n",
      "10000/10000 [==============================] - 178s - loss: 3.2579 - acc: 0.5827 - val_loss: 0.6964 - val_acc: 0.6500\n",
      "Epoch 18/30\n",
      "10000/10000 [==============================] - 178s - loss: 3.2375 - acc: 0.5880 - val_loss: 0.6954 - val_acc: 0.6500\n",
      "Epoch 19/30\n",
      "10000/10000 [==============================] - 179s - loss: 3.2265 - acc: 0.5897 - val_loss: 0.6946 - val_acc: 0.6500\n",
      "Epoch 20/30\n",
      "10000/10000 [==============================] - 178s - loss: 3.2153 - acc: 0.5904 - val_loss: 0.6940 - val_acc: 0.6500\n",
      "Epoch 21/30\n",
      "10000/10000 [==============================] - 178s - loss: 3.2262 - acc: 0.5833 - val_loss: 0.6936 - val_acc: 0.6490\n",
      "Epoch 22/30\n",
      "10000/10000 [==============================] - 179s - loss: 3.2412 - acc: 0.5844 - val_loss: 0.6921 - val_acc: 0.6520\n",
      "Epoch 23/30\n",
      "10000/10000 [==============================] - 180s - loss: 3.2265 - acc: 0.5821 - val_loss: 0.6916 - val_acc: 0.6490\n",
      "Epoch 24/30\n",
      " 2720/10000 [=======>......................] - ETA: 135s - loss: 3.2402 - acc: 0.5673"
     ]
    },
    {
     "ename": "KeyboardInterrupt",
     "evalue": "",
     "output_type": "error",
     "traceback": [
      "\u001b[1;31m---------------------------------------------------------------------------\u001b[0m",
      "\u001b[1;31mKeyboardInterrupt\u001b[0m                         Traceback (most recent call last)",
      "\u001b[1;32m<ipython-input-3-1b140cb887d6>\u001b[0m in \u001b[0;36m<module>\u001b[1;34m()\u001b[0m\n\u001b[0;32m     79\u001b[0m \u001b[1;33m\u001b[0m\u001b[0m\n\u001b[0;32m     80\u001b[0m hist = model.fit(X_train, Y_train, batch_size=batch_size, nb_epoch=nb_epoch, class_weight=class_weight,\n\u001b[1;32m---> 81\u001b[1;33m           verbose=1, validation_data=(X_val, Y_val), callbacks=[cb_change_lr, cb_early_stopping, cb_remote])\n\u001b[0m\u001b[0;32m     82\u001b[0m \u001b[1;33m\u001b[0m\u001b[0m\n\u001b[0;32m     83\u001b[0m \u001b[0mscore\u001b[0m \u001b[1;33m=\u001b[0m \u001b[0mmodel\u001b[0m\u001b[1;33m.\u001b[0m\u001b[0mevaluate\u001b[0m\u001b[1;33m(\u001b[0m\u001b[0mX_test\u001b[0m\u001b[1;33m,\u001b[0m \u001b[0mY_test\u001b[0m\u001b[1;33m,\u001b[0m \u001b[0mverbose\u001b[0m\u001b[1;33m=\u001b[0m\u001b[1;36m0\u001b[0m\u001b[1;33m)\u001b[0m\u001b[1;33m\u001b[0m\u001b[0m\n",
      "\u001b[1;32m/usr/local/lib/python3.5/dist-packages/keras/models.py\u001b[0m in \u001b[0;36mfit\u001b[1;34m(self, x, y, batch_size, nb_epoch, verbose, callbacks, validation_split, validation_data, shuffle, class_weight, sample_weight, **kwargs)\u001b[0m\n\u001b[0;32m    650\u001b[0m                               \u001b[0mshuffle\u001b[0m\u001b[1;33m=\u001b[0m\u001b[0mshuffle\u001b[0m\u001b[1;33m,\u001b[0m\u001b[1;33m\u001b[0m\u001b[0m\n\u001b[0;32m    651\u001b[0m                               \u001b[0mclass_weight\u001b[0m\u001b[1;33m=\u001b[0m\u001b[0mclass_weight\u001b[0m\u001b[1;33m,\u001b[0m\u001b[1;33m\u001b[0m\u001b[0m\n\u001b[1;32m--> 652\u001b[1;33m                               sample_weight=sample_weight)\n\u001b[0m\u001b[0;32m    653\u001b[0m \u001b[1;33m\u001b[0m\u001b[0m\n\u001b[0;32m    654\u001b[0m     def evaluate(self, x, y, batch_size=32, verbose=1,\n",
      "\u001b[1;32m/usr/local/lib/python3.5/dist-packages/keras/engine/training.py\u001b[0m in \u001b[0;36mfit\u001b[1;34m(self, x, y, batch_size, nb_epoch, verbose, callbacks, validation_split, validation_data, shuffle, class_weight, sample_weight, initial_epoch)\u001b[0m\n\u001b[0;32m   1109\u001b[0m                               \u001b[0mval_f\u001b[0m\u001b[1;33m=\u001b[0m\u001b[0mval_f\u001b[0m\u001b[1;33m,\u001b[0m \u001b[0mval_ins\u001b[0m\u001b[1;33m=\u001b[0m\u001b[0mval_ins\u001b[0m\u001b[1;33m,\u001b[0m \u001b[0mshuffle\u001b[0m\u001b[1;33m=\u001b[0m\u001b[0mshuffle\u001b[0m\u001b[1;33m,\u001b[0m\u001b[1;33m\u001b[0m\u001b[0m\n\u001b[0;32m   1110\u001b[0m                               \u001b[0mcallback_metrics\u001b[0m\u001b[1;33m=\u001b[0m\u001b[0mcallback_metrics\u001b[0m\u001b[1;33m,\u001b[0m\u001b[1;33m\u001b[0m\u001b[0m\n\u001b[1;32m-> 1111\u001b[1;33m                               initial_epoch=initial_epoch)\n\u001b[0m\u001b[0;32m   1112\u001b[0m \u001b[1;33m\u001b[0m\u001b[0m\n\u001b[0;32m   1113\u001b[0m     \u001b[1;32mdef\u001b[0m \u001b[0mevaluate\u001b[0m\u001b[1;33m(\u001b[0m\u001b[0mself\u001b[0m\u001b[1;33m,\u001b[0m \u001b[0mx\u001b[0m\u001b[1;33m,\u001b[0m \u001b[0my\u001b[0m\u001b[1;33m,\u001b[0m \u001b[0mbatch_size\u001b[0m\u001b[1;33m=\u001b[0m\u001b[1;36m32\u001b[0m\u001b[1;33m,\u001b[0m \u001b[0mverbose\u001b[0m\u001b[1;33m=\u001b[0m\u001b[1;36m1\u001b[0m\u001b[1;33m,\u001b[0m \u001b[0msample_weight\u001b[0m\u001b[1;33m=\u001b[0m\u001b[1;32mNone\u001b[0m\u001b[1;33m)\u001b[0m\u001b[1;33m:\u001b[0m\u001b[1;33m\u001b[0m\u001b[0m\n",
      "\u001b[1;32m/usr/local/lib/python3.5/dist-packages/keras/engine/training.py\u001b[0m in \u001b[0;36m_fit_loop\u001b[1;34m(self, f, ins, out_labels, batch_size, nb_epoch, verbose, callbacks, val_f, val_ins, shuffle, callback_metrics, initial_epoch)\u001b[0m\n\u001b[0;32m    824\u001b[0m                 \u001b[0mbatch_logs\u001b[0m\u001b[1;33m[\u001b[0m\u001b[1;34m'size'\u001b[0m\u001b[1;33m]\u001b[0m \u001b[1;33m=\u001b[0m \u001b[0mlen\u001b[0m\u001b[1;33m(\u001b[0m\u001b[0mbatch_ids\u001b[0m\u001b[1;33m)\u001b[0m\u001b[1;33m\u001b[0m\u001b[0m\n\u001b[0;32m    825\u001b[0m                 \u001b[0mcallbacks\u001b[0m\u001b[1;33m.\u001b[0m\u001b[0mon_batch_begin\u001b[0m\u001b[1;33m(\u001b[0m\u001b[0mbatch_index\u001b[0m\u001b[1;33m,\u001b[0m \u001b[0mbatch_logs\u001b[0m\u001b[1;33m)\u001b[0m\u001b[1;33m\u001b[0m\u001b[0m\n\u001b[1;32m--> 826\u001b[1;33m                 \u001b[0mouts\u001b[0m \u001b[1;33m=\u001b[0m \u001b[0mf\u001b[0m\u001b[1;33m(\u001b[0m\u001b[0mins_batch\u001b[0m\u001b[1;33m)\u001b[0m\u001b[1;33m\u001b[0m\u001b[0m\n\u001b[0m\u001b[0;32m    827\u001b[0m                 \u001b[1;32mif\u001b[0m \u001b[0mtype\u001b[0m\u001b[1;33m(\u001b[0m\u001b[0mouts\u001b[0m\u001b[1;33m)\u001b[0m \u001b[1;33m!=\u001b[0m \u001b[0mlist\u001b[0m\u001b[1;33m:\u001b[0m\u001b[1;33m\u001b[0m\u001b[0m\n\u001b[0;32m    828\u001b[0m                     \u001b[0mouts\u001b[0m \u001b[1;33m=\u001b[0m \u001b[1;33m[\u001b[0m\u001b[0mouts\u001b[0m\u001b[1;33m]\u001b[0m\u001b[1;33m\u001b[0m\u001b[0m\n",
      "\u001b[1;32m/usr/local/lib/python3.5/dist-packages/keras/backend/theano_backend.py\u001b[0m in \u001b[0;36m__call__\u001b[1;34m(self, inputs)\u001b[0m\n\u001b[0;32m    809\u001b[0m     \u001b[1;32mdef\u001b[0m \u001b[0m__call__\u001b[0m\u001b[1;33m(\u001b[0m\u001b[0mself\u001b[0m\u001b[1;33m,\u001b[0m \u001b[0minputs\u001b[0m\u001b[1;33m)\u001b[0m\u001b[1;33m:\u001b[0m\u001b[1;33m\u001b[0m\u001b[0m\n\u001b[0;32m    810\u001b[0m         \u001b[1;32massert\u001b[0m \u001b[0mtype\u001b[0m\u001b[1;33m(\u001b[0m\u001b[0minputs\u001b[0m\u001b[1;33m)\u001b[0m \u001b[1;32min\u001b[0m \u001b[1;33m{\u001b[0m\u001b[0mlist\u001b[0m\u001b[1;33m,\u001b[0m \u001b[0mtuple\u001b[0m\u001b[1;33m}\u001b[0m\u001b[1;33m\u001b[0m\u001b[0m\n\u001b[1;32m--> 811\u001b[1;33m         \u001b[1;32mreturn\u001b[0m \u001b[0mself\u001b[0m\u001b[1;33m.\u001b[0m\u001b[0mfunction\u001b[0m\u001b[1;33m(\u001b[0m\u001b[1;33m*\u001b[0m\u001b[0minputs\u001b[0m\u001b[1;33m)\u001b[0m\u001b[1;33m\u001b[0m\u001b[0m\n\u001b[0m\u001b[0;32m    812\u001b[0m \u001b[1;33m\u001b[0m\u001b[0m\n\u001b[0;32m    813\u001b[0m \u001b[1;33m\u001b[0m\u001b[0m\n",
      "\u001b[1;32m/usr/local/lib/python3.5/dist-packages/theano/compile/function_module.py\u001b[0m in \u001b[0;36m__call__\u001b[1;34m(self, *args, **kwargs)\u001b[0m\n\u001b[0;32m    857\u001b[0m         \u001b[0mt0_fn\u001b[0m \u001b[1;33m=\u001b[0m \u001b[0mtime\u001b[0m\u001b[1;33m.\u001b[0m\u001b[0mtime\u001b[0m\u001b[1;33m(\u001b[0m\u001b[1;33m)\u001b[0m\u001b[1;33m\u001b[0m\u001b[0m\n\u001b[0;32m    858\u001b[0m         \u001b[1;32mtry\u001b[0m\u001b[1;33m:\u001b[0m\u001b[1;33m\u001b[0m\u001b[0m\n\u001b[1;32m--> 859\u001b[1;33m             \u001b[0moutputs\u001b[0m \u001b[1;33m=\u001b[0m \u001b[0mself\u001b[0m\u001b[1;33m.\u001b[0m\u001b[0mfn\u001b[0m\u001b[1;33m(\u001b[0m\u001b[1;33m)\u001b[0m\u001b[1;33m\u001b[0m\u001b[0m\n\u001b[0m\u001b[0;32m    860\u001b[0m         \u001b[1;32mexcept\u001b[0m \u001b[0mException\u001b[0m\u001b[1;33m:\u001b[0m\u001b[1;33m\u001b[0m\u001b[0m\n\u001b[0;32m    861\u001b[0m             \u001b[1;32mif\u001b[0m \u001b[0mhasattr\u001b[0m\u001b[1;33m(\u001b[0m\u001b[0mself\u001b[0m\u001b[1;33m.\u001b[0m\u001b[0mfn\u001b[0m\u001b[1;33m,\u001b[0m \u001b[1;34m'position_of_error'\u001b[0m\u001b[1;33m)\u001b[0m\u001b[1;33m:\u001b[0m\u001b[1;33m\u001b[0m\u001b[0m\n",
      "\u001b[1;31mKeyboardInterrupt\u001b[0m: "
     ]
    }
   ],
   "source": [
    "np.random.seed(47)\n",
    "\n",
    "DATA_DIR = '../data/imdb-wiki-tiny-dataset'\n",
    "\n",
    "TRAIN_DATA_OBJ = 'train_data'\n",
    "VAL_DATA_OBJ = 'val_data'\n",
    "TEST_DATA_OBJ = 'test_data'\n",
    "\n",
    "class_names = ['female', 'male']\n",
    "n_classes = 2\n",
    "\n",
    "batch_size = 40\n",
    "nb_epoch = 30\n",
    "learning_rate = 1e-2\n",
    "decay = 0.999\n",
    "l2_reg = 1e-3\n",
    "\n",
    "lr_boost_epoch = 20\n",
    "lr_boost_value = 2e-2\n",
    "\n",
    "X_train = np.load(fs.join(DATA_DIR, TRAIN_DATA_OBJ + '_00.npy')).astype(np.float32)\n",
    "y_train = np.load(fs.join(DATA_DIR, TRAIN_DATA_OBJ + '_label_gender_00.npy')).astype(int)\n",
    "Y_train = np_utils.to_categorical(y_train, n_classes)\n",
    "\n",
    "X_val = np.load(fs.join(DATA_DIR, VAL_DATA_OBJ + '.npy')).astype(np.float32)\n",
    "y_val = np.load(fs.join(DATA_DIR, VAL_DATA_OBJ + '_label_gender.npy')).astype(int)\n",
    "Y_val = np_utils.to_categorical(y_val, n_classes)\n",
    "\n",
    "X_test = np.load(fs.join(DATA_DIR, TEST_DATA_OBJ + '_00.npy')).astype(np.float32)\n",
    "y_test = np.load(fs.join(DATA_DIR, TEST_DATA_OBJ + '_label_gender_00.npy')).astype(int)\n",
    "Y_test = np_utils.to_categorical(y_test, n_classes)\n",
    "\n",
    "class_weight = utils.get_class_weight(class_names, y_train)\n",
    "print(class_weight)\n",
    "    \n",
    "def flip(X):\n",
    "    return X.transpose((0,3,2,1))\n",
    "\n",
    "def transform(X, mean=None, std=None):\n",
    "    if std is not None:\n",
    "        return flip((flip(X) - mean) / (std + 1e-8))\n",
    "    elif mean is not None:\n",
    "        return flip(flip(X) - mean)\n",
    "    else:\n",
    "        return X\n",
    "\n",
    "ax = (0,1,2)\n",
    "mean = flip(X_train).mean(ax)\n",
    "std = flip(X_train).std(ax)\n",
    "\n",
    "X_train = transform(X_train, mean, std)\n",
    "X_val = transform(X_val, mean, std)\n",
    "X_test = transform(X_test, mean, std)\n",
    "\n",
    "model = models.get_simple_cnn(\n",
    "    input_shape=(3,48,48), n_classes=n_classes,\n",
    "    init='glorot_normal', # Seems to be more stable than glorot uniform (Xavier Initialization)\n",
    "    batch_norm=True,      # Better generalization and faster convergence, no improvements with ELU (slower computation)\n",
    "    l2_reg=l2_reg,        # Adds good generalization to the model\n",
    "    activation='elu',     # Seems to converge much faster instead of ReLU\n",
    "    dropout=0.5,          # More generalization, drop rand connections at training time,\n",
    "    fc6=512, fc7=512\n",
    ")\n",
    "\n",
    "# Tried also Adam and RMSProp\n",
    "# However only SGD seems to be stable and converges quickly\n",
    "opt = SGD(lr=learning_rate, decay=decay)\n",
    "\n",
    "model.compile(loss='categorical_crossentropy', optimizer=opt, metrics=['accuracy'])\n",
    "\n",
    "def scheduler(epoch):\n",
    "    if epoch == lr_boost_epoch:\n",
    "        model.optimizer.lr.set_value(lr_boost_value)\n",
    "    return float(model.optimizer.lr.get_value())\n",
    "\n",
    "cb_change_lr = LearningRateScheduler(scheduler)\n",
    "cb_early_stopping = EarlyStopping(monitor='val_loss', patience=20, verbose=0, mode='auto')\n",
    "cb_remote = RemoteMonitor(root='http://localhost:9000')\n",
    "\n",
    "hist = model.fit(X_train, Y_train, batch_size=batch_size, nb_epoch=nb_epoch, class_weight=class_weight,\n",
    "          verbose=1, validation_data=(X_val, Y_val), callbacks=[cb_change_lr, cb_early_stopping, cb_remote])\n",
    "\n",
    "score = model.evaluate(X_test, Y_test, verbose=0)\n",
    "\n",
    "print('Test score:', score[0])\n",
    "print('Test accuracy:', score[1])"
   ]
  },
  {
   "cell_type": "code",
   "execution_count": 4,
   "metadata": {
    "collapsed": false
   },
   "outputs": [
    {
     "data": {
      "image/png": "[encoded data removed]",
      "text/plain": [
       "<matplotlib.figure.Figure at 0x7f0509920f98>"
      ]
     },
     "metadata": {},
     "output_type": "display_data"
    }
   ],
   "source": [
    "from sklearn.metrics import confusion_matrix\n",
    "\n",
    "y_true = y_test\n",
    "y_pred = model.predict_classes(X_test, batch_size=batch_size, verbose=0)\n",
    "\n",
    "cm = confusion_matrix(y_true, y_pred)\n",
    "\n",
    "utils.plot_confusion_matrix(cm, classes=class_names, normalize=True, title='Confusion matrix [test]')"
   ]
  },
  {
   "cell_type": "code",
   "execution_count": null,
   "metadata": {
    "collapsed": true
   },
   "outputs": [],
   "source": []
  }
 ],
 "metadata": {
  "kernelspec": {
   "display_name": "Python 3",
   "language": "python",
   "name": "python3"
  },
  "language_info": {
   "codemirror_mode": {
    "name": "ipython",
    "version": 3
   },
   "file_extension": ".py",
   "mimetype": "text/x-python",
   "name": "python",
   "nbconvert_exporter": "python",
   "pygments_lexer": "ipython3",
   "version": "3.5.2"
  }
 },
 "nbformat": 4,
 "nbformat_minor": 0
}
